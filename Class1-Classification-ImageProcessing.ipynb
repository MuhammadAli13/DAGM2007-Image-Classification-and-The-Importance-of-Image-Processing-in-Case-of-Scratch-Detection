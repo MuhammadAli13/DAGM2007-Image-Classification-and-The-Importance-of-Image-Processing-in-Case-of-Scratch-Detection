{
 "cells": [
  {
   "cell_type": "markdown",
   "metadata": {},
   "source": [
    "# Imports"
   ]
  },
  {
   "cell_type": "code",
   "execution_count": 1,
   "metadata": {},
   "outputs": [
    {
     "name": "stderr",
     "output_type": "stream",
     "text": [
      "Using TensorFlow backend.\n",
      "WARNING: Logging before flag parsing goes to stderr.\n",
      "W1121 00:48:36.431343  1124 deprecation_wrapper.py:119] From C:\\Users\\oshim\\Documents\\Dagm\\my_library.py:6: The name tf.set_random_seed is deprecated. Please use tf.compat.v1.set_random_seed instead.\n",
      "\n"
     ]
    },
    {
     "data": {
      "text/plain": [
       "<module 'my_library' from 'C:\\\\Users\\\\oshim\\\\Documents\\\\Dagm\\\\my_library.py'>"
      ]
     },
     "execution_count": 1,
     "metadata": {},
     "output_type": "execute_result"
    }
   ],
   "source": [
    "import warnings\n",
    "warnings.filterwarnings(\"ignore\")\n",
    "import tensorflow as tf\n",
    "from tensorflow import set_random_seed\n",
    "import matplotlib.pyplot as plt\n",
    "from PIL import Image, ImageEnhance\n",
    "import pandas as pd\n",
    "import cv2 as cv \n",
    "import cv2\n",
    "import sys\n",
    "import matplotlib.pyplot as plt\n",
    "import skimage\n",
    "import os\n",
    "import re\n",
    "from tqdm import tqdm\n",
    "import numpy as np\n",
    "from numpy.random import seed \n",
    "import random\n",
    "from sklearn.metrics import confusion_matrix\n",
    "from sklearn.preprocessing import StandardScaler\n",
    "from sklearn.utils import shuffle\n",
    "from sklearn.model_selection import train_test_split\n",
    "from sklearn.metrics import f1_score\n",
    "from sklearn.linear_model import LogisticRegression\n",
    "from keras import backend as k \n",
    "from keras import optimizers\n",
    "from keras import applications\n",
    "from keras import layers\n",
    "from keras import models\n",
    "from keras import callbacks\n",
    "from keras import optimizers\n",
    "from keras.backend import tensorflow_backend\n",
    "from keras.preprocessing import image\n",
    "from keras.utils.np_utils import to_categorical\n",
    "from keras.applications.vgg16 import VGG16\n",
    "from keras.applications import inception_v3\n",
    "from keras.applications.inception_v3 import InceptionV3\n",
    "from keras.applications import xception\n",
    "from keras.applications import resnet50\n",
    "from keras.applications.vgg16 import preprocess_input, decode_predictions\n",
    "from keras.utils import np_utils\n",
    "from keras.regularizers import l2\n",
    "from keras.preprocessing import image\n",
    "from keras.preprocessing.image import array_to_img\n",
    "from keras.preprocessing.image import ImageDataGenerator\n",
    "from keras.models import Sequential, Model \n",
    "from keras.layers import Activation\n",
    "from keras.layers import merge, Input\n",
    "from keras.layers import LeakyReLU\n",
    "from keras.layers import Dropout, Flatten, Dense, GlobalAveragePooling2D\n",
    "from keras.layers import Conv2D,Dropout,BatchNormalization,Dense,MaxPooling2D,ZeroPadding2D\n",
    "from keras.callbacks import ModelCheckpoint, LearningRateScheduler, TensorBoard, EarlyStopping\n",
    "img_width, img_height = 224, 224\n",
    "from keras.applications.imagenet_utils import preprocess_input\n",
    "import keras\n",
    "from keras.models import Model\n",
    "from keras.models import load_model\n",
    "import os\n",
    "import matplotlib.pyplot as plt\n",
    "import numpy as np\n",
    "import pandas as pd\n",
    "import cv2 as cv\n",
    "from PIL import Image, ImageEnhance\n",
    "from sklearn.model_selection import train_test_split\n",
    "from keras import models\n",
    "from keras import layers , optimizers\n",
    "from keras.layers import Input\n",
    "from keras.applications import models\n",
    "from keras.applications import VGG16\n",
    "from keras.utils import np_utils\n",
    "from keras.layers import Dropout, Flatten, Dense, GlobalAveragePooling2D\n",
    "from keras.models import Sequential, Model \n",
    "import my_library as ml\n",
    "from importlib import reload\n",
    "from keras.optimizers import Adam\n",
    "reload(ml)"
   ]
  },
  {
   "cell_type": "code",
   "execution_count": 2,
   "metadata": {},
   "outputs": [
    {
     "name": "stdout",
     "output_type": "stream",
     "text": [
      "| ID | GPU | MEM |\n",
      "------------------\n",
      "|  0 |  0% |  3% |\n"
     ]
    }
   ],
   "source": [
    "import GPUtil\n",
    "GPUtil.showUtilization()"
   ]
  },
  {
   "cell_type": "code",
   "execution_count": 2,
   "metadata": {},
   "outputs": [
    {
     "name": "stdout",
     "output_type": "stream",
     "text": [
      "Initialised with 50 image(s) found.\n",
      "Output directory set to problem1/train/bad/output."
     ]
    },
    {
     "name": "stderr",
     "output_type": "stream",
     "text": [
      "Processing <PIL.Image.Image image mode=L size=512x512 at 0x1749D756358>: 100%|██| 50/50 [00:00<00:00, 136.60 Samples/s]\n",
      "Processing <PIL.Image.Image image mode=L size=512x512 at 0x1749D785278>: 100%|██| 50/50 [00:00<00:00, 135.50 Samples/s]\n",
      "Processing <PIL.Image.Image image mode=L size=512x512 at 0x1749D7710B8>: 100%|██| 50/50 [00:00<00:00, 164.91 Samples/s]\n"
     ]
    },
    {
     "name": "stdout",
     "output_type": "stream",
     "text": [
      "Initialised with 50 image(s) found.\n",
      "Output directory set to problem1/test/bad/output."
     ]
    },
    {
     "name": "stderr",
     "output_type": "stream",
     "text": [
      "Processing <PIL.Image.Image image mode=L size=512x512 at 0x1749D778F28>: 100%|██| 50/50 [00:00<00:00, 146.59 Samples/s]\n",
      "Processing <PIL.Image.Image image mode=L size=512x512 at 0x1749D771E10>: 100%|██| 50/50 [00:00<00:00, 150.55 Samples/s]\n",
      "Processing <PIL.Image.Image image mode=L size=512x512 at 0x1749D761FD0>: 100%|██| 50/50 [00:00<00:00, 145.32 Samples/s]\n"
     ]
    },
    {
     "name": "stdout",
     "output_type": "stream",
     "text": [
      "Initialised with 50 image(s) found.\n",
      "Output directory set to problem1/val/bad/output."
     ]
    },
    {
     "name": "stderr",
     "output_type": "stream",
     "text": [
      "Processing <PIL.Image.Image image mode=L size=512x512 at 0x1749D761470>: 100%|██| 50/50 [00:00<00:00, 160.68 Samples/s]\n",
      "Processing <PIL.Image.Image image mode=L size=512x512 at 0x1749D778B38>: 100%|██| 50/50 [00:00<00:00, 152.85 Samples/s]\n",
      "Processing <PIL.Image.Image image mode=L size=512x512 at 0x1749D744128>: 100%|██| 50/50 [00:00<00:00, 156.18 Samples/s]\n"
     ]
    },
    {
     "name": "stdout",
     "output_type": "stream",
     "text": [
      "train_good image number:  334\n",
      "train_bad image number:  200\n",
      "test_good image number:  333\n",
      "train_bad image number:  200\n",
      "val_good image number:  332\n",
      "val_bad image number:  200\n"
     ]
    }
   ],
   "source": [
    "ml.train_test_val_generator(num=1)\n",
    "#it will create train,test and val folder including \n",
    "# good and bad folder in each of them\n",
    "# num = 1 means dataset 1 (Class1 and Class1_def)"
   ]
  },
  {
   "cell_type": "markdown",
   "metadata": {},
   "source": [
    "### xTrain,xVal,xTest with out processing"
   ]
  },
  {
   "cell_type": "code",
   "execution_count": 2,
   "metadata": {},
   "outputs": [],
   "source": [
    "def image_processing_function(img):\n",
    "    edges = cv.Canny(img,50,100)\n",
    "    return cv.merge((edges,edges,edges))\n",
    "## this image processing function is actually useful only for class1 dataset.\n",
    "## for every classes there are different image processing functions.\n",
    "xTrain_,yTrain_,xVal_,yVal_,xTest_,yTest_ = ml.xTrain_xVal_xTest_from_train_test_val_folders(num=1,image_processing=False,size=224,\n",
    "                                                                                      image_processing_function=image_processing_function)\n",
    "# function name says it all. \n",
    "# by the way, it is worth mentioning that as total number of images is very\n",
    "# small, I did not use any generator. \n",
    "# xTrain is a pure numpy array of shape (534, 224, 224, 3)\n",
    "# xTrain,xVal,xTest are without any kind of image processing"
   ]
  },
  {
   "cell_type": "markdown",
   "metadata": {},
   "source": [
    "### xTrain,xVal,xTest with processing"
   ]
  },
  {
   "cell_type": "code",
   "execution_count": 3,
   "metadata": {},
   "outputs": [],
   "source": [
    "def image_processing_function(img):\n",
    "    edges = cv.Canny(img,50,100)\n",
    "    return cv.merge((edges,edges,edges))\n",
    "## this image processing function is actually useful only for class1 dataset.\n",
    "## for every classes there are different image processing functions.\n",
    "xTrain,yTrain,xVal,yVal,xTest,yTest = ml.xTrain_xVal_xTest_from_train_test_val_folders(num=1,image_processing=True,size=224,\n",
    "                                                                                      image_processing_function=image_processing_function)\n",
    "# function name says it all. \n",
    "# by the way, it is worth mentioning that as total number of images is very\n",
    "# small, I did not use any generator. \n",
    "# xTrain is a pure numpy array of shape (534, 224, 224, 3)\n",
    "# xTrain,xVal,xTest are with image processing"
   ]
  },
  {
   "cell_type": "markdown",
   "metadata": {},
   "source": [
    "# VGG16 with out Image Processing"
   ]
  },
  {
   "cell_type": "code",
   "execution_count": 4,
   "metadata": {},
   "outputs": [
    {
     "name": "stderr",
     "output_type": "stream",
     "text": [
      "W1121 00:14:16.393141 11856 deprecation_wrapper.py:119] From C:\\Users\\oshim\\AppData\\Local\\Continuum\\anaconda3\\lib\\site-packages\\keras\\backend\\tensorflow_backend.py:74: The name tf.get_default_graph is deprecated. Please use tf.compat.v1.get_default_graph instead.\n",
      "\n",
      "W1121 00:14:16.443818 11856 deprecation_wrapper.py:119] From C:\\Users\\oshim\\AppData\\Local\\Continuum\\anaconda3\\lib\\site-packages\\keras\\backend\\tensorflow_backend.py:517: The name tf.placeholder is deprecated. Please use tf.compat.v1.placeholder instead.\n",
      "\n",
      "W1121 00:14:16.458313 11856 deprecation_wrapper.py:119] From C:\\Users\\oshim\\AppData\\Local\\Continuum\\anaconda3\\lib\\site-packages\\keras\\backend\\tensorflow_backend.py:4138: The name tf.random_uniform is deprecated. Please use tf.random.uniform instead.\n",
      "\n",
      "W1121 00:14:16.499046 11856 deprecation_wrapper.py:119] From C:\\Users\\oshim\\AppData\\Local\\Continuum\\anaconda3\\lib\\site-packages\\keras\\backend\\tensorflow_backend.py:3976: The name tf.nn.max_pool is deprecated. Please use tf.nn.max_pool2d instead.\n",
      "\n",
      "W1121 00:14:19.621487 11856 deprecation_wrapper.py:119] From C:\\Users\\oshim\\AppData\\Local\\Continuum\\anaconda3\\lib\\site-packages\\keras\\backend\\tensorflow_backend.py:174: The name tf.get_default_session is deprecated. Please use tf.compat.v1.get_default_session instead.\n",
      "\n",
      "W1121 00:14:27.159524 11856 deprecation.py:506] From C:\\Users\\oshim\\AppData\\Local\\Continuum\\anaconda3\\lib\\site-packages\\keras\\backend\\tensorflow_backend.py:3445: calling dropout (from tensorflow.python.ops.nn_ops) with keep_prob is deprecated and will be removed in a future version.\n",
      "Instructions for updating:\n",
      "Please use `rate` instead of `keep_prob`. Rate should be set to `rate = 1 - keep_prob`.\n",
      "W1121 00:14:27.159524 11856 nn_ops.py:4224] Large dropout rate: 0.8 (>0.5). In TensorFlow 2.x, dropout() uses dropout rate instead of keep_prob. Please ensure that this is intended.\n",
      "W1121 00:14:27.235256 11856 deprecation_wrapper.py:119] From C:\\Users\\oshim\\AppData\\Local\\Continuum\\anaconda3\\lib\\site-packages\\keras\\optimizers.py:790: The name tf.train.Optimizer is deprecated. Please use tf.compat.v1.train.Optimizer instead.\n",
      "\n",
      "W1121 00:14:27.371890 11856 deprecation.py:323] From C:\\Users\\oshim\\AppData\\Local\\Continuum\\anaconda3\\lib\\site-packages\\tensorflow\\python\\ops\\math_grad.py:1250: add_dispatch_support.<locals>.wrapper (from tensorflow.python.ops.array_ops) is deprecated and will be removed in a future version.\n",
      "Instructions for updating:\n",
      "Use tf.where in 2.0, which has the same broadcast rule as np.where\n"
     ]
    },
    {
     "name": "stdout",
     "output_type": "stream",
     "text": [
      "Train on 534 samples, validate on 532 samples\n",
      "Epoch 1/7\n",
      " - 26s - loss: 0.9219 - acc: 0.5000 - val_loss: 0.6742 - val_acc: 0.6241\n",
      "Epoch 2/7\n",
      " - 10s - loss: 0.6947 - acc: 0.6011 - val_loss: 0.6566 - val_acc: 0.6241\n",
      "Epoch 3/7\n",
      " - 10s - loss: 0.6658 - acc: 0.6067 - val_loss: 0.6584 - val_acc: 0.6241\n",
      "Epoch 4/7\n",
      " - 10s - loss: 0.6692 - acc: 0.6142 - val_loss: 0.6511 - val_acc: 0.6241\n",
      "Epoch 5/7\n",
      " - 10s - loss: 0.6529 - acc: 0.6311 - val_loss: 0.6529 - val_acc: 0.6241\n",
      "Epoch 6/7\n",
      " - 10s - loss: 0.6519 - acc: 0.6479 - val_loss: 0.6451 - val_acc: 0.6447\n",
      "Epoch 7/7\n",
      " - 10s - loss: 0.6325 - acc: 0.6367 - val_loss: 0.6434 - val_acc: 0.6598\n"
     ]
    }
   ],
   "source": [
    "image_input= Input(shape=(224,224,3))\n",
    "model=VGG16(input_tensor=image_input, include_top=True, weights='imagenet')\n",
    "last_layer = model.get_layer('flatten').output\n",
    "last_layer = Dense(256, activation='relu',name='second_last')(last_layer)\n",
    "last_layer = Dropout(.8,name='drop')(last_layer)\n",
    "out = Dense(2, activation='softmax', name='output')(last_layer)\n",
    "custom_vgg_model = Model(image_input, out)\n",
    "#custom_vgg_model.summary()\n",
    "\n",
    "for layer in custom_vgg_model.layers[:-8]:\n",
    "\tlayer.trainable = False\n",
    "#custom_vgg_model.layers[-4].trainable\n",
    "from keras.callbacks import ModelCheckpoint, EarlyStopping\n",
    "early_stopping=callbacks.EarlyStopping(monitor='val_loss', min_delta=0, patience=3, verbose=0, mode='min')\n",
    "checkpoint = ModelCheckpoint('class1_vgg_layers_8.hdf5', monitor='val_loss', save_best_only=True, mode='min')\n",
    "\n",
    "batch_size = 32\n",
    "custom_vgg_model.compile(loss='categorical_crossentropy',optimizer=Adam(lr=0.0001),metrics=['accuracy'])\n",
    "hist = custom_vgg_model.fit(xTrain_, yTrain_, batch_size=batch_size, epochs=7, verbose=2, validation_data=(xVal_,yVal_),\n",
    "                            callbacks=[early_stopping,checkpoint],class_weight='balanced') ;"
   ]
  },
  {
   "cell_type": "code",
   "execution_count": 5,
   "metadata": {},
   "outputs": [
    {
     "name": "stderr",
     "output_type": "stream",
     "text": [
      "W1121 00:16:44.236085 11856 nn_ops.py:4224] Large dropout rate: 0.8 (>0.5). In TensorFlow 2.x, dropout() uses dropout rate instead of keep_prob. Please ensure that this is intended.\n"
     ]
    },
    {
     "name": "stdout",
     "output_type": "stream",
     "text": [
      "\n",
      "Evaluation on Best Validation:\n",
      "\n",
      "Confusion Matrix:\n",
      " [[ 86 114]\n",
      " [ 69 264]]\n",
      "\n",
      "Confusion Matrix (as Percentage)\n"
     ]
    },
    {
     "data": {
      "image/png": "[encoded data removed]",
      "text/plain": [
       "<Figure size 432x288 with 2 Axes>"
      ]
     },
     "metadata": {
      "needs_background": "light"
     },
     "output_type": "display_data"
    },
    {
     "name": "stdout",
     "output_type": "stream",
     "text": [
      "Bad data detection probability:  0.43\n",
      "Good data detection probability: 0.7927927927927928\n",
      "F1 score 0.7426160337552742\n"
     ]
    }
   ],
   "source": [
    "bestModel=load_model('class1_vgg_layers_8.hdf5')\n",
    "#bestModel=load_model('class6_vgg_layers_8.hdf5')\n",
    "print('\\nEvaluation on Best Validation:')\n",
    "#print('Accuracy: ',bestModel.evaluate(xTest_,yTest_)[1])\n",
    "\n",
    "preds=bestModel.predict(xTest_)\n",
    "predicted_class = []\n",
    "for i in preds:\n",
    "    if i[0]>i[1]:\n",
    "        predicted_class.append(0)\n",
    "    else:\n",
    "        predicted_class.append(1)\n",
    "f1,cm=ml.f1ScoreAndConfusionMatrix(ml.OneHotEncodeDecoder(yTest_),predicted_class)"
   ]
  },
  {
   "cell_type": "markdown",
   "metadata": {},
   "source": [
    "*Obviously It will be better if I tune parameters. But I am more interested to see how it works in case of other models and in case of using image processing.*\n"
   ]
  },
  {
   "cell_type": "markdown",
   "metadata": {},
   "source": [
    "# VGG16 with Image Processing"
   ]
  },
  {
   "cell_type": "code",
   "execution_count": 6,
   "metadata": {},
   "outputs": [
    {
     "name": "stderr",
     "output_type": "stream",
     "text": [
      "W1121 00:09:34.153430  5164 nn_ops.py:4224] Large dropout rate: 0.8 (>0.5). In TensorFlow 2.x, dropout() uses dropout rate instead of keep_prob. Please ensure that this is intended.\n"
     ]
    },
    {
     "name": "stdout",
     "output_type": "stream",
     "text": [
      "Train on 534 samples, validate on 532 samples\n",
      "Epoch 1/7\n",
      " - 16s - loss: 0.7463 - acc: 0.6330 - val_loss: 0.2743 - val_acc: 0.9511\n",
      "Epoch 2/7\n",
      " - 11s - loss: 0.1325 - acc: 0.9700 - val_loss: 0.0130 - val_acc: 1.0000\n",
      "Epoch 3/7\n",
      " - 11s - loss: 0.0140 - acc: 1.0000 - val_loss: 9.8334e-04 - val_acc: 1.0000\n",
      "Epoch 4/7\n",
      " - 12s - loss: 0.0034 - acc: 1.0000 - val_loss: 1.6780e-04 - val_acc: 1.0000\n",
      "Epoch 5/7\n",
      " - 11s - loss: 9.1343e-04 - acc: 1.0000 - val_loss: 2.2173e-05 - val_acc: 1.0000\n",
      "Epoch 6/7\n",
      " - 12s - loss: 4.0299e-04 - acc: 1.0000 - val_loss: 8.6124e-06 - val_acc: 1.0000\n",
      "Epoch 7/7\n",
      " - 12s - loss: 6.0808e-04 - acc: 1.0000 - val_loss: 3.1922e-06 - val_acc: 1.0000\n"
     ]
    }
   ],
   "source": [
    "image_input= Input(shape=(224,224,3))\n",
    "model=VGG16(input_tensor=image_input, include_top=True, weights='imagenet')\n",
    "last_layer = model.get_layer('flatten').output\n",
    "last_layer = Dense(256, activation='relu',name='second_last')(last_layer)\n",
    "last_layer = Dropout(.8,name='drop')(last_layer)\n",
    "out = Dense(2, activation='softmax', name='output')(last_layer)\n",
    "custom_vgg_model = Model(image_input, out)\n",
    "#custom_vgg_model.summary()\n",
    "\n",
    "for layer in custom_vgg_model.layers[:-8]:\n",
    "\tlayer.trainable = False\n",
    "#custom_vgg_model.layers[-4].trainable\n",
    "from keras.callbacks import ModelCheckpoint, EarlyStopping\n",
    "early_stopping=callbacks.EarlyStopping(monitor='val_loss', min_delta=0, patience=3, verbose=0, mode='min')\n",
    "checkpoint = ModelCheckpoint('class1_vgg_layers_8.hdf5', monitor='val_loss', save_best_only=True, mode='min')\n",
    "\n",
    "batch_size = 32\n",
    "custom_vgg_model.compile(loss='categorical_crossentropy',optimizer=Adam(lr=0.0001),metrics=['accuracy'])\n",
    "hist = custom_vgg_model.fit(xTrain, yTrain, batch_size=batch_size, epochs=7, verbose=2, validation_data=(xVal,yVal),\n",
    "                            callbacks=[early_stopping,checkpoint],class_weight='balanced') ;"
   ]
  },
  {
   "cell_type": "code",
   "execution_count": 7,
   "metadata": {},
   "outputs": [
    {
     "name": "stderr",
     "output_type": "stream",
     "text": [
      "W1121 00:12:33.075455  5164 nn_ops.py:4224] Large dropout rate: 0.8 (>0.5). In TensorFlow 2.x, dropout() uses dropout rate instead of keep_prob. Please ensure that this is intended.\n"
     ]
    },
    {
     "name": "stdout",
     "output_type": "stream",
     "text": [
      "\n",
      "Evaluation on Best Validation:\n",
      "\n",
      "Confusion Matrix:\n",
      " [[200   0]\n",
      " [  0 333]]\n",
      "\n",
      "Confusion Matrix (as Percentage)\n"
     ]
    },
    {
     "data": {
      "image/png": "[encoded data removed]",
      "text/plain": [
       "<Figure size 432x288 with 2 Axes>"
      ]
     },
     "metadata": {
      "needs_background": "light"
     },
     "output_type": "display_data"
    },
    {
     "name": "stdout",
     "output_type": "stream",
     "text": [
      "Bad data detection probability:  1.0\n",
      "Good data detection probability: 1.0\n",
      "F1 score 1.0\n"
     ]
    }
   ],
   "source": [
    "bestModel=load_model('class1_vgg_layers_8.hdf5')\n",
    "#bestModel=load_model('class6_vgg_layers_8.hdf5')\n",
    "print('\\nEvaluation on Best Validation:')\n",
    "#print('Accuracy: ',bestModel.evaluate(xTest_,yTest_)[1])\n",
    "\n",
    "preds=bestModel.predict(xTest)\n",
    "predicted_class = []\n",
    "for i in preds:\n",
    "    if i[0]>i[1]:\n",
    "        predicted_class.append(0)\n",
    "    else:\n",
    "        predicted_class.append(1)\n",
    "f1,cm=ml.f1ScoreAndConfusionMatrix(ml.OneHotEncodeDecoder(yTest),predicted_class)"
   ]
  },
  {
   "cell_type": "markdown",
   "metadata": {},
   "source": [
    "# Xception without Image Processing"
   ]
  },
  {
   "cell_type": "code",
   "execution_count": 4,
   "metadata": {},
   "outputs": [
    {
     "name": "stderr",
     "output_type": "stream",
     "text": [
      "W1121 00:25:47.392513 10428 deprecation_wrapper.py:119] From C:\\Users\\oshim\\AppData\\Local\\Continuum\\anaconda3\\lib\\site-packages\\keras\\backend\\tensorflow_backend.py:74: The name tf.get_default_graph is deprecated. Please use tf.compat.v1.get_default_graph instead.\n",
      "\n",
      "W1121 00:25:47.444449 10428 deprecation_wrapper.py:119] From C:\\Users\\oshim\\AppData\\Local\\Continuum\\anaconda3\\lib\\site-packages\\keras\\backend\\tensorflow_backend.py:517: The name tf.placeholder is deprecated. Please use tf.compat.v1.placeholder instead.\n",
      "\n",
      "W1121 00:25:47.460612 10428 deprecation_wrapper.py:119] From C:\\Users\\oshim\\AppData\\Local\\Continuum\\anaconda3\\lib\\site-packages\\keras\\backend\\tensorflow_backend.py:4138: The name tf.random_uniform is deprecated. Please use tf.random.uniform instead.\n",
      "\n",
      "W1121 00:25:47.498578 10428 deprecation_wrapper.py:119] From C:\\Users\\oshim\\AppData\\Local\\Continuum\\anaconda3\\lib\\site-packages\\keras\\backend\\tensorflow_backend.py:174: The name tf.get_default_session is deprecated. Please use tf.compat.v1.get_default_session instead.\n",
      "\n",
      "W1121 00:25:53.537695 10428 deprecation_wrapper.py:119] From C:\\Users\\oshim\\AppData\\Local\\Continuum\\anaconda3\\lib\\site-packages\\keras\\backend\\tensorflow_backend.py:1834: The name tf.nn.fused_batch_norm is deprecated. Please use tf.compat.v1.nn.fused_batch_norm instead.\n",
      "\n",
      "W1121 00:25:53.927480 10428 deprecation_wrapper.py:119] From C:\\Users\\oshim\\AppData\\Local\\Continuum\\anaconda3\\lib\\site-packages\\keras\\backend\\tensorflow_backend.py:3976: The name tf.nn.max_pool is deprecated. Please use tf.nn.max_pool2d instead.\n",
      "\n",
      "W1121 00:26:01.654664 10428 deprecation.py:506] From C:\\Users\\oshim\\AppData\\Local\\Continuum\\anaconda3\\lib\\site-packages\\keras\\backend\\tensorflow_backend.py:3445: calling dropout (from tensorflow.python.ops.nn_ops) with keep_prob is deprecated and will be removed in a future version.\n",
      "Instructions for updating:\n",
      "Please use `rate` instead of `keep_prob`. Rate should be set to `rate = 1 - keep_prob`.\n",
      "W1121 00:26:04.905294 10428 deprecation_wrapper.py:119] From C:\\Users\\oshim\\AppData\\Local\\Continuum\\anaconda3\\lib\\site-packages\\keras\\optimizers.py:790: The name tf.train.Optimizer is deprecated. Please use tf.compat.v1.train.Optimizer instead.\n",
      "\n",
      "W1121 00:26:05.109728 10428 deprecation.py:323] From C:\\Users\\oshim\\AppData\\Local\\Continuum\\anaconda3\\lib\\site-packages\\tensorflow\\python\\ops\\math_grad.py:1250: add_dispatch_support.<locals>.wrapper (from tensorflow.python.ops.array_ops) is deprecated and will be removed in a future version.\n",
      "Instructions for updating:\n",
      "Use tf.where in 2.0, which has the same broadcast rule as np.where\n"
     ]
    },
    {
     "name": "stdout",
     "output_type": "stream",
     "text": [
      "Train on 534 samples, validate on 532 samples\n",
      "Epoch 1/7\n",
      " - 47s - loss: 1.7746 - acc: 0.6142 - val_loss: 0.8293 - val_acc: 0.6447\n",
      "Epoch 2/7\n",
      " - 29s - loss: 0.6876 - acc: 0.6442 - val_loss: 8.4654 - val_acc: 0.4680\n",
      "Epoch 3/7\n",
      " - 28s - loss: 0.5925 - acc: 0.8352 - val_loss: 0.4179 - val_acc: 0.9774\n",
      "Epoch 4/7\n",
      " - 28s - loss: 0.2730 - acc: 0.9644 - val_loss: 0.2319 - val_acc: 0.9774\n",
      "Epoch 5/7\n",
      " - 29s - loss: 0.4012 - acc: 0.9532 - val_loss: 1.5089 - val_acc: 0.8778\n",
      "Epoch 6/7\n",
      " - 28s - loss: 0.1477 - acc: 0.9850 - val_loss: 0.1465 - val_acc: 0.9643\n",
      "Epoch 7/7\n",
      " - 28s - loss: 0.2396 - acc: 0.9757 - val_loss: 0.5241 - val_acc: 0.9568\n"
     ]
    }
   ],
   "source": [
    "conv_base = xception.Xception(weights='imagenet',\n",
    "                  include_top=False,\n",
    "                  input_shape=(224,224, 3))\n",
    "model = models.Sequential()\n",
    "model.add(conv_base)\n",
    "model.add(layers.Flatten())\n",
    "model.add(layers.Dense(256, activation='relu'))\n",
    "model.add(layers.Dropout(0.5))\n",
    "model.add(layers.Dense(2, activation='softmax'))\n",
    "xTrain = xTrain/255\n",
    "xVal = xVal/255\n",
    "xTest = xTest/255\n",
    "\n",
    "#model.compile(loss='categorical_crossentropy',optimizer='adam',metrics=['accuracy'])\n",
    "early_stopping=callbacks.EarlyStopping(monitor='val_loss', min_delta=0, patience=20, verbose=0, mode='min')\n",
    "checkpoint = ModelCheckpoint('class1_p.hdf5', monitor='val_loss', save_best_only=True, mode='min')\n",
    "\n",
    "batch_size = 8\n",
    "model.compile(loss='categorical_crossentropy',optimizer='rmsprop',metrics=['accuracy'])\n",
    "hist_processed = model.fit(xTrain_, yTrain_, batch_size=batch_size, epochs=7, verbose=2, validation_data=(xVal_,yVal_),\n",
    "                            callbacks=[early_stopping,checkpoint])"
   ]
  },
  {
   "cell_type": "code",
   "execution_count": 4,
   "metadata": {},
   "outputs": [
    {
     "name": "stderr",
     "output_type": "stream",
     "text": [
      "W1121 00:49:13.245835  1124 deprecation_wrapper.py:119] From C:\\Users\\oshim\\AppData\\Local\\Continuum\\anaconda3\\lib\\site-packages\\keras\\backend\\tensorflow_backend.py:74: The name tf.get_default_graph is deprecated. Please use tf.compat.v1.get_default_graph instead.\n",
      "\n",
      "W1121 00:49:13.346047  1124 deprecation_wrapper.py:119] From C:\\Users\\oshim\\AppData\\Local\\Continuum\\anaconda3\\lib\\site-packages\\keras\\backend\\tensorflow_backend.py:517: The name tf.placeholder is deprecated. Please use tf.compat.v1.placeholder instead.\n",
      "\n",
      "W1121 00:49:13.382099  1124 deprecation_wrapper.py:119] From C:\\Users\\oshim\\AppData\\Local\\Continuum\\anaconda3\\lib\\site-packages\\keras\\backend\\tensorflow_backend.py:4138: The name tf.random_uniform is deprecated. Please use tf.random.uniform instead.\n",
      "\n",
      "W1121 00:49:13.433672  1124 deprecation_wrapper.py:119] From C:\\Users\\oshim\\AppData\\Local\\Continuum\\anaconda3\\lib\\site-packages\\keras\\backend\\tensorflow_backend.py:174: The name tf.get_default_session is deprecated. Please use tf.compat.v1.get_default_session instead.\n",
      "\n",
      "W1121 00:49:19.320756  1124 deprecation_wrapper.py:119] From C:\\Users\\oshim\\AppData\\Local\\Continuum\\anaconda3\\lib\\site-packages\\keras\\backend\\tensorflow_backend.py:1834: The name tf.nn.fused_batch_norm is deprecated. Please use tf.compat.v1.nn.fused_batch_norm instead.\n",
      "\n",
      "W1121 00:49:19.706497  1124 deprecation_wrapper.py:119] From C:\\Users\\oshim\\AppData\\Local\\Continuum\\anaconda3\\lib\\site-packages\\keras\\backend\\tensorflow_backend.py:3976: The name tf.nn.max_pool is deprecated. Please use tf.nn.max_pool2d instead.\n",
      "\n",
      "W1121 00:49:29.484695  1124 deprecation.py:506] From C:\\Users\\oshim\\AppData\\Local\\Continuum\\anaconda3\\lib\\site-packages\\keras\\backend\\tensorflow_backend.py:3445: calling dropout (from tensorflow.python.ops.nn_ops) with keep_prob is deprecated and will be removed in a future version.\n",
      "Instructions for updating:\n",
      "Please use `rate` instead of `keep_prob`. Rate should be set to `rate = 1 - keep_prob`.\n",
      "W1121 00:49:32.497592  1124 deprecation_wrapper.py:119] From C:\\Users\\oshim\\AppData\\Local\\Continuum\\anaconda3\\lib\\site-packages\\keras\\optimizers.py:790: The name tf.train.Optimizer is deprecated. Please use tf.compat.v1.train.Optimizer instead.\n",
      "\n",
      "W1121 00:49:32.670805  1124 deprecation.py:323] From C:\\Users\\oshim\\AppData\\Local\\Continuum\\anaconda3\\lib\\site-packages\\tensorflow\\python\\ops\\math_grad.py:1250: add_dispatch_support.<locals>.wrapper (from tensorflow.python.ops.array_ops) is deprecated and will be removed in a future version.\n",
      "Instructions for updating:\n",
      "Use tf.where in 2.0, which has the same broadcast rule as np.where\n"
     ]
    },
    {
     "name": "stdout",
     "output_type": "stream",
     "text": [
      "Train on 534 samples, validate on 532 samples\n",
      "Epoch 1/7\n",
      " - 44s - loss: 1.8170 - acc: 0.6217 - val_loss: 6.0309 - val_acc: 0.6241\n",
      "Epoch 2/7\n",
      " - 29s - loss: 0.2490 - acc: 0.9551 - val_loss: 10.0587 - val_acc: 0.3759\n",
      "Epoch 3/7\n",
      " - 29s - loss: 0.5517 - acc: 0.9457 - val_loss: 10.0587 - val_acc: 0.3759\n",
      "Epoch 4/7\n",
      " - 29s - loss: 0.0904 - acc: 0.9925 - val_loss: 2.1957 - val_acc: 0.7350\n",
      "Epoch 5/7\n",
      " - 29s - loss: 0.2947 - acc: 0.9644 - val_loss: 10.0587 - val_acc: 0.3759\n",
      "Epoch 6/7\n",
      " - 29s - loss: 0.3368 - acc: 0.9682 - val_loss: 0.3878 - val_acc: 0.9643\n",
      "Epoch 7/7\n",
      " - 29s - loss: 0.2693 - acc: 0.9700 - val_loss: 1.0949 - val_acc: 0.7989\n"
     ]
    }
   ],
   "source": [
    "conv_base = xception.Xception(weights='imagenet',\n",
    "                  include_top=False,\n",
    "                  input_shape=(224,224, 3))\n",
    "model = models.Sequential()\n",
    "model.add(conv_base)\n",
    "model.add(layers.Flatten())\n",
    "model.add(layers.Dense(256, activation='relu'))\n",
    "model.add(layers.Dropout(0.5))\n",
    "model.add(layers.Dense(2, activation='softmax'))\n",
    "xTrain = xTrain/255\n",
    "xVal = xVal/255\n",
    "xTest = xTest/255\n",
    "\n",
    "#model.compile(loss='categorical_crossentropy',optimizer='adam',metrics=['accuracy'])\n",
    "early_stopping=callbacks.EarlyStopping(monitor='val_loss', min_delta=0, patience=20, verbose=0, mode='min')\n",
    "checkpoint = ModelCheckpoint('xception_with_processing.hdf5', monitor='val_loss', save_best_only=True, mode='min')\n",
    "\n",
    "batch_size = 8\n",
    "model.compile(loss='categorical_crossentropy',optimizer='rmsprop',metrics=['accuracy'])\n",
    "hist_processed = model.fit(xTrain, yTrain, batch_size=batch_size, epochs=7, verbose=2, validation_data=(xVal,yVal),\n",
    "                            callbacks=[early_stopping,checkpoint])"
   ]
  },
  {
   "cell_type": "markdown",
   "metadata": {},
   "source": [
    "*something is definitely wrong. I will find out later*"
   ]
  },
  {
   "cell_type": "code",
   "execution_count": null,
   "metadata": {},
   "outputs": [],
   "source": []
  }
 ],
 "metadata": {
  "kernelspec": {
   "display_name": "Python 3",
   "language": "python",
   "name": "python3"
  },
  "language_info": {
   "codemirror_mode": {
    "name": "ipython",
    "version": 3
   },
   "file_extension": ".py",
   "mimetype": "text/x-python",
   "name": "python",
   "nbconvert_exporter": "python",
   "pygments_lexer": "ipython3",
   "version": "3.7.3"
  }
 },
 "nbformat": 4,
 "nbformat_minor": 2
}
